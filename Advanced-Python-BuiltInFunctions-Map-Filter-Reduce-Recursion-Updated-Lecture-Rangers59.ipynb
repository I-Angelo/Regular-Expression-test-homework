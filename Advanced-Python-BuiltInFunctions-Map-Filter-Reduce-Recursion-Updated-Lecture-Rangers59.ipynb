{
 "cells": [
  {
   "cell_type": "markdown",
   "metadata": {},
   "source": [
    "# Map, Filter, Reduce, Lambda & Recursion"
   ]
  },
  {
   "cell_type": "markdown",
   "metadata": {},
   "source": [
    "## Tasks Today:\n",
    "\n",
    "1) <b>Lambda Functions</b> <br>\n",
    " &nbsp;&nbsp;&nbsp;&nbsp; a) Syntax <br>\n",
    " &nbsp;&nbsp;&nbsp;&nbsp; b) Saving to a Variable <br>\n",
    " &nbsp;&nbsp;&nbsp;&nbsp; c) Multiple Inputs <br>\n",
    " &nbsp;&nbsp;&nbsp;&nbsp; d) Passing a Lambda into a Function <br>\n",
    " &nbsp;&nbsp;&nbsp;&nbsp; e) Returning a Lambda from a Function <br>\n",
    " &nbsp;&nbsp;&nbsp;&nbsp; f) In-Class Exercise #1 <br>\n",
    "2) <b>Map</b> <br>\n",
    " &nbsp;&nbsp;&nbsp;&nbsp; a) Syntax <br>\n",
    " &nbsp;&nbsp;&nbsp;&nbsp; b) Using Lambda's with Map <br>\n",
    " &nbsp;&nbsp;&nbsp;&nbsp; c) In-Class Exercise #2 <br>\n",
    "3) <b>Filter</b> <br>\n",
    " &nbsp;&nbsp;&nbsp;&nbsp; a) Syntax <br>\n",
    " &nbsp;&nbsp;&nbsp;&nbsp; b) Using Lambda's with Filter <br>\n",
    " &nbsp;&nbsp;&nbsp;&nbsp; c) In-Class Exercise #3 <br>\n",
    "4) <b>Reduce</b> <br>\n",
    " &nbsp;&nbsp;&nbsp;&nbsp; a) Syntax <br>\n",
    " &nbsp;&nbsp;&nbsp;&nbsp; b) Using Lambda's with Reduce <br>\n",
    " &nbsp;&nbsp;&nbsp;&nbsp; c) In-Class Exercise #4 <br>\n",
    "5) <b>Recursion</b> <br>\n",
    " &nbsp;&nbsp;&nbsp;&nbsp; a) Implementing a Base <br>\n",
    " &nbsp;&nbsp;&nbsp;&nbsp; b) Writing a Factorial Function <br>\n",
    " &nbsp;&nbsp;&nbsp;&nbsp; c) In-Class Exercise #5 <br>\n",
    "6) <b>Generators & Iterators</b> <br>\n",
    " &nbsp;&nbsp;&nbsp;&nbsp; a) Yield Keyword <br>\n",
    " &nbsp;&nbsp;&nbsp;&nbsp; b) Inifinite Generator <br>\n",
    " &nbsp;&nbsp;&nbsp;&nbsp; c) In-Class Exercise #6 <br>\n",
    "7) <b>Exercises</b> <br>\n",
    " &nbsp;&nbsp;&nbsp;&nbsp; a) Exercise #1 - Filtering Empty Strings <br>\n",
    " &nbsp;&nbsp;&nbsp;&nbsp; b) Exercise #2 - Sorting with Last Name <br>\n",
    " &nbsp;&nbsp;&nbsp;&nbsp; c) Exercise #3 - Conversion to Farhenheit <br>\n",
    " &nbsp;&nbsp;&nbsp;&nbsp; d) Exercise #4 - Fibonacci Sequence <br>"
   ]
  },
  {
   "cell_type": "markdown",
   "metadata": {},
   "source": [
    "## Lambda Functions <br>\n",
    "<p>Lambda functions... or \"Anonymous Functions\" are referring to inline functions with no name. The keyword lambda denotes the no name function, and executes within a single line. Without saving it to a variable; however, it is not able to be used, unless passed in either as a paramater or within list comprehension.<br>Written as \"(keyword lambda) (one or more inputs) (colon) (function to be executed)\"</p>"
   ]
  },
  {
   "cell_type": "markdown",
   "metadata": {},
   "source": [
    "#### Syntax"
   ]
  },
  {
   "cell_type": "code",
   "execution_count": 3,
   "metadata": {},
   "outputs": [
    {
     "name": "stdout",
     "output_type": "stream",
     "text": [
      "6\n",
      "6\n",
      "6\n"
     ]
    }
   ],
   "source": [
    "def addTwo(x):\n",
    "    return x + 2\n",
    "\n",
    "print(addTwo(4))\n",
    "\n",
    "# The Lambda version...\n",
    "# Without using a variable to pass in data\n",
    "print((lambda x: x + 2)(4))\n",
    "\n",
    "# Using a variable\n",
    "a_num = 4\n",
    "print((lambda x: x + 2)(a_num))"
   ]
  },
  {
   "cell_type": "markdown",
   "metadata": {},
   "source": [
    "#### Saving to a Variable"
   ]
  },
  {
   "cell_type": "code",
   "execution_count": 4,
   "metadata": {},
   "outputs": [
    {
     "data": {
      "text/plain": [
       "6"
      ]
     },
     "execution_count": 4,
     "metadata": {},
     "output_type": "execute_result"
    }
   ],
   "source": [
    "f_test = lambda x: x + 2\n",
    "\n",
    "f_test(4)"
   ]
  },
  {
   "cell_type": "markdown",
   "metadata": {},
   "source": [
    "#### Multiple Inputs"
   ]
  },
  {
   "cell_type": "code",
   "execution_count": 11,
   "metadata": {},
   "outputs": [
    {
     "name": "stdout",
     "output_type": "stream",
     "text": [
      "120\n",
      "120\n"
     ]
    }
   ],
   "source": [
    "# Multiple inputs with no variables\n",
    "print((lambda x, y, z: x * y * z)(3, 5, 8))\n",
    "\n",
    "# Multiple Inputs with a variable attached\n",
    "x_test = lambda x, y, z: x * y * z\n",
    "print(x_test(3,5,8))"
   ]
  },
  {
   "cell_type": "markdown",
   "metadata": {},
   "source": [
    "#### Passing a Lambda into a Function"
   ]
  },
  {
   "cell_type": "code",
   "execution_count": 12,
   "metadata": {},
   "outputs": [
    {
     "data": {
      "text/plain": [
       "16"
      ]
     },
     "execution_count": 12,
     "metadata": {},
     "output_type": "execute_result"
    }
   ],
   "source": [
    "def multiply(f, num):\n",
    "    '''\n",
    "        f expects a lambda function\n",
    "        num expects a number\n",
    "    '''\n",
    "    return f(num) # Up to here this is a normal function\n",
    "\n",
    "# Below is where we call the lambda function\n",
    "\n",
    "multiply(lambda x: x * x, 4)"
   ]
  },
  {
   "cell_type": "markdown",
   "metadata": {},
   "source": [
    "#### Returning a Lambda from a Function"
   ]
  },
  {
   "cell_type": "code",
   "execution_count": 20,
   "metadata": {},
   "outputs": [
    {
     "name": "stdout",
     "output_type": "stream",
     "text": [
      "8\n",
      "19\n"
     ]
    }
   ],
   "source": [
    "# Regular defined function\n",
    "def multiply_tst(num):\n",
    "    return num + 4\n",
    "\n",
    "# Function within a function:\n",
    "def returnFunc():\n",
    "    def multiply(num):\n",
    "        return num * 2\n",
    "    return multiply\n",
    "\n",
    "f_return = returnFunc()\n",
    "# print(returnFunc())\n",
    "print(f_return(4))\n",
    "\n",
    "# Lambda function returned from a regular finction\n",
    "def returnLam(b,c):\n",
    "    return lambda x, a: x + a + b + c\n",
    "\n",
    "r_lamb = returnLam(4,5)\n",
    "print(r_lamb(5,5))"
   ]
  },
  {
   "cell_type": "markdown",
   "metadata": {},
   "source": [
    "#### If Statements within Lambdas"
   ]
  },
  {
   "cell_type": "code",
   "execution_count": 21,
   "metadata": {},
   "outputs": [
    {
     "name": "stdout",
     "output_type": "stream",
     "text": [
      "10\n",
      "24\n",
      "12\n"
     ]
    }
   ],
   "source": [
    "# Lambda x: True if (condition) else False\n",
    "f_condition = lambda num: num * 2 if num > 10 else num + 2\n",
    "\n",
    "print(f_condition(8))\n",
    "print(f_condition(12))\n",
    "print(f_condition(10))"
   ]
  },
  {
   "cell_type": "markdown",
   "metadata": {},
   "source": [
    "#### In-Class Exercise #1 <br>\n",
    "<p>Write an anonymous function that cubes the arguments passed in and assign the anonymous function to a variable 'f'.</p>"
   ]
  },
  {
   "cell_type": "code",
   "execution_count": 38,
   "metadata": {},
   "outputs": [
    {
     "name": "stdout",
     "output_type": "stream",
     "text": [
      "16\n"
     ]
    }
   ],
   "source": [
    "f = lambda x: x ** 2\n",
    "\n",
    "print(f(4))\n",
    "\n"
   ]
  },
  {
   "cell_type": "markdown",
   "metadata": {},
   "source": [
    "## Map <br>\n",
    "<p>The map function allows you to iterate over an entire list while running a function on each item of the list. This is why the map function works well with lambda's, because it simplifies things and you write less lines of code.<br>The syntax for a map function is \"map(function to be used, list to be used)\"<br>However, you must be careful, as the map function returns a map object, not a list. To turn it into a list we use the list() type conversion.</p>"
   ]
  },
  {
   "cell_type": "markdown",
   "metadata": {},
   "source": [
    "#### Syntax"
   ]
  },
  {
   "cell_type": "code",
   "execution_count": 23,
   "metadata": {},
   "outputs": [
    {
     "name": "stdout",
     "output_type": "stream",
     "text": [
      "[(16, 16), (11, 10), (20, 3), (9, 4), (15, 6)]\n"
     ]
    }
   ],
   "source": [
    "# map(function, iterable)\n",
    "# An iterable has to be something like a list, dict, tuple or set\n",
    "# Normally the usage of map happens with a pre-defined function - but we can use lambdas as well\n",
    "\n",
    "def squared(num, num2):\n",
    "    if num < 10 and num2 < 10:\n",
    "        return num ** 2, num2 **2\n",
    "    else:\n",
    "        return num, num2\n",
    "    \n",
    "numbers = [4, 11, 20, 3, 15, 20]\n",
    "more_nums = [4, 10, 3, 2, 6]\n",
    "\n",
    "squared_nums_map = list(map(squared, numbers, more_nums)) #its important to use list() to be able to print the 'map'\n",
    "print(squared_nums_map)\n",
    "\n",
    "# map work very much like zip() as one of the exercises i did in the past combining two separate lists of strings\n",
    "# NOTE : Even if there are not enough objects in both lists, being 6 objects in 'numbers' and 5 in 'more_nums'\n",
    "# map() will pair whatever it can and run the function or instructions therein. "
   ]
  },
  {
   "cell_type": "markdown",
   "metadata": {},
   "source": [
    "#### Using Lambda's with Map"
   ]
  },
  {
   "cell_type": "code",
   "execution_count": 26,
   "metadata": {},
   "outputs": [
    {
     "name": "stdout",
     "output_type": "stream",
     "text": [
      "[(16, 16), (11, 10), (20, 3), (9, 4), (15, 6)]\n",
      "[(16, 16), (11, 10), (20, 3), (9, 4), (15, 6)]\n"
     ]
    }
   ],
   "source": [
    "# map(lambda x: do something, iterable)\n",
    "# Using lambda in map happens inline or on one line\n",
    "# list(map(lambda x: x * 2, nums))\n",
    "\n",
    "    \n",
    "numbers = [4, 11, 20, 3, 15, 20]\n",
    "more_nums = [4, 10, 3, 2, 6]\n",
    "\n",
    "squared_nums_lambda = list(map(lambda x, y: (x ** 2, y ** 2) if x < 10 and y < 10 else (x,y), numbers, more_nums))\n",
    "print(squared_nums_lambda)\n",
    "\n",
    "print(list(map(lambda x, y: (x ** 2, y ** 2) if x < 10 and y < 10 else (x,y), numbers, more_nums)))\n",
    "\n",
    "# We got rid of the extra variable 'squared_nums_lambda' as above and print it in one line\n",
    "\n",
    "# /SAME EXERCISE AS THE ONE ABOVE BUT IN ONE LINE"
   ]
  },
  {
   "cell_type": "markdown",
   "metadata": {},
   "source": [
    "#### In-Class Exercise #2 <br>\n",
    "<p>Use the map function to double each number and minus it by one in the list by using a lambda function</p>"
   ]
  },
  {
   "cell_type": "code",
   "execution_count": 30,
   "metadata": {},
   "outputs": [
    {
     "name": "stdout",
     "output_type": "stream",
     "text": [
      "[(7, 7), (21, 19), (39, 5), (5, 3), (29, 11)]\n"
     ]
    }
   ],
   "source": [
    "print(list(map(lambda x, y: ((x * 2) - 1, (y * 2) - 1), numbers, more_nums)))"
   ]
  },
  {
   "cell_type": "markdown",
   "metadata": {},
   "source": [
    "## Filter() <br>\n",
    "<p>Filter's are similar to the map function, where you're able to pass a function argument and a list argument and filter out something from the list based on the conditions passed. Similar to the map function, it returns a filter object, so you need to type convert it to a list()</p>"
   ]
  },
  {
   "cell_type": "markdown",
   "metadata": {},
   "source": [
    "#### Syntax"
   ]
  },
  {
   "cell_type": "code",
   "execution_count": 44,
   "metadata": {},
   "outputs": [
    {
     "name": "stdout",
     "output_type": "stream",
     "text": [
      "['Bob', 'Andy', 'Angelica']\n"
     ]
    }
   ],
   "source": [
    "names= ['Bob', 'Andy', 'Max', 'Evan', 'Angelica']\n",
    "\n",
    "def a_names(name):\n",
    "    if name[0].lower() == 'a':\n",
    "        return True\n",
    "    elif name[0].lower() == 'b':\n",
    "        return True\n",
    "    else:\n",
    "        return False\n",
    "\n",
    "# RETURNING TRUE OR FALSE IS VERY IMPORTANT\n",
    "# If it returns True it will added to our list of filtered results,(In this case is the list named\n",
    "# 'new_names_list'), and if False , it will not add it to our list\n",
    "    \n",
    "new_names_list = list(filter(a_names, names))\n",
    "print(new_names_list)\n",
    "\n",
    "\n",
    "    "
   ]
  },
  {
   "cell_type": "markdown",
   "metadata": {},
   "source": [
    "#### Using Lambda's with Filter()"
   ]
  },
  {
   "cell_type": "code",
   "execution_count": 54,
   "metadata": {},
   "outputs": [
    {
     "name": "stdout",
     "output_type": "stream",
     "text": [
      "['Andy', 'Angelica']\n"
     ]
    }
   ],
   "source": [
    "new_names_lambda = list(filter(lambda name: True if name[0].lower() == 'a' else False, names))\n",
    "print(new_names_lambda)"
   ]
  },
  {
   "cell_type": "markdown",
   "metadata": {},
   "source": [
    "#### In-Class Exercise #3 <br>\n",
    "<p>Filter out all the numbers that are below the mean of the list.<br><b>Hint: Import the 'statistics' module</b></p>"
   ]
  },
  {
   "cell_type": "code",
   "execution_count": 75,
   "metadata": {},
   "outputs": [
    {
     "name": "stdout",
     "output_type": "stream",
     "text": [
      "13\n",
      "---------Exercise Answer :---------\n",
      "[4, 11, 3]\n"
     ]
    }
   ],
   "source": [
    "from statistics import mean\n",
    "\n",
    "numbers = [4, 11, 25, 3, 15, 20]\n",
    "\n",
    "mean_numbers = mean(numbers)\n",
    "\n",
    "print(mean_numbers)\n",
    "\n",
    "print('---------Exercise Answer :---------')\n",
    "\n",
    "mean_nums = list(filter(lambda x: True if x < mean(numbers) else False , numbers ))\n",
    "print(mean_nums)\n"
   ]
  },
  {
   "cell_type": "markdown",
   "metadata": {},
   "source": [
    "## Reduce() <br>\n",
    "<p>Be very careful when using this function, as of Python 3 it's been moved to the 'functools' library and no longer is a built-in function.<br>The creator of Python himself, says to just use a for loop instead.</p>"
   ]
  },
  {
   "cell_type": "markdown",
   "metadata": {},
   "source": [
    "#### Syntax"
   ]
  },
  {
   "cell_type": "code",
   "execution_count": 91,
   "metadata": {},
   "outputs": [
    {
     "name": "stdout",
     "output_type": "stream",
     "text": [
      "30\n",
      "-26\n",
      "<class 'list'>\n",
      "30\n"
     ]
    }
   ],
   "source": [
    "from functools import reduce\n",
    "\n",
    "# reduce(function, iterable[,initialier]) #initializer is optional . if you add eg. 100 as an initializer\n",
    "                                          #reduce will start the computation at 100\n",
    "\n",
    "list_1 = [2, 4, 6, 8, 10]\n",
    "\n",
    "def addNums(num1, num2):\n",
    "    return num1 + num2\n",
    "\n",
    "result_add = reduce(addNums, list_1)\n",
    "\n",
    "print(result_add)\n",
    "\n",
    "# Substract a list of numbers\n",
    "def subtractNums(num1, num2):\n",
    "    return num1 - num2\n",
    "\n",
    "result_sub = reduce(subtractNums, list_1)\n",
    "print(result_sub)\n",
    "print(type(list_1))\n",
    "\n",
    "#  the regular for - loop allternative :\n",
    "total = 0\n",
    "for i in list_1:\n",
    "    total = total + i #(total += i)\n",
    "print(total)"
   ]
  },
  {
   "cell_type": "markdown",
   "metadata": {},
   "source": [
    "#### Using Lambda's with Reduce()"
   ]
  },
  {
   "cell_type": "code",
   "execution_count": 97,
   "metadata": {},
   "outputs": [
    {
     "name": "stdout",
     "output_type": "stream",
     "text": [
      "30\n",
      "-26\n"
     ]
    }
   ],
   "source": [
    "result_lamb = reduce(lambda x, y: x + y, list_1 )\n",
    "print(result_lamb)\n",
    "\n",
    "result_sub_lamb = reduce(lambda x, y: x - y, list_1)\n",
    "print(result_sub_lamb)"
   ]
  },
  {
   "cell_type": "markdown",
   "metadata": {},
   "source": [
    "#### In-Class Exercise #4 <br>\n",
    "<p>Use the reduce function to multiply the numbers in the list below together with a lambda function.</p>"
   ]
  },
  {
   "cell_type": "code",
   "execution_count": 99,
   "metadata": {},
   "outputs": [
    {
     "name": "stdout",
     "output_type": "stream",
     "text": [
      "24\n"
     ]
    }
   ],
   "source": [
    "my_list = [1, 2, 3, 4]\n",
    "\n",
    "my_res = reduce(lambda x, y: x * y, my_list)\n",
    "print(my_res)"
   ]
  },
  {
   "cell_type": "markdown",
   "metadata": {},
   "source": [
    "## Recursion <br>\n",
    "<p>Recursion means that a function is calling itself, so it contanstly executes until a base case is reached. It will then push the returning values back up the chain until the function is complete. A prime example of recursion is computing factorials... such that 5! (factorial) is 5*4*3*2*1 which equals 120.</p>"
   ]
  },
  {
   "cell_type": "markdown",
   "metadata": {},
   "source": [
    "#### Implementing a Base Case"
   ]
  },
  {
   "cell_type": "code",
   "execution_count": 106,
   "metadata": {},
   "outputs": [
    {
     "name": "stdout",
     "output_type": "stream",
     "text": [
      "addNums(5) = 5 + addNums(4)\n",
      "addNums(5) = 5 + addNums(4)\n",
      "addNums(4) = 4 + addNums(3)\n",
      "addNums(3) = 3 + addNums(2)\n",
      "addNums(2) = 2 + addNums(1)\n",
      "addNums(1) = 1\n",
      "addNums(5) = 5 + addNums(4)\n",
      "addNums(4) = 4 + addNums(3)\n",
      "addNums(3) = 3 + addNums(2)\n",
      "addNums(2) = 2 + addNums(1)\n",
      "addNums(1) = 1\n",
      "15\n"
     ]
    }
   ],
   "source": [
    "# Recusrsion is calling the function repeatedly within the same function as it is in the 'return' on line 26\n",
    "\n",
    "####  return 'variable or value' 'operation' '(function_name)again(variable - the step (in this case 1))'\n",
    "\n",
    "# base case is the last number....keep reading for the example to be more clear\n",
    "\n",
    "def addNums(num):\n",
    "    #Here is our base caswe...\n",
    "    if num <= 1:\n",
    "        print('addNums(1) = 1')\n",
    "        return num\n",
    "    else:\n",
    "        print(f'addNums({num}) = {num} + addNums({num - 1})')\n",
    "\n",
    "# If we print now ....\n",
    "addNums(5)\n",
    "\n",
    "# ADDING RECURSIO FACTOR ....\n",
    "# Notice the difference on the 'else' part\n",
    "\n",
    "def addNums1(num1):\n",
    "    #Here is our base caswe...\n",
    "    if num1 <= 1:                #If we dont add this condition, which is the 'base case' and tells the loop\n",
    "        print('addNums(1) = 1')  # to stop, it will continue printing for ever into the negative numbers in this\n",
    "        return num1              #particular case\n",
    "    else:\n",
    "        print(f'addNums({num1}) = {num1} + addNums({num1 - 1})')\n",
    "        ##Recursion below\n",
    "        return num1 + addNums1(num1 - 1) #addNums(num1 - 4) is calling itslef in the return with the less value\n",
    "                                          # in this case in the second loop would be 4, then 3 and so on...while\n",
    "                                         # adding the results num1(5) plus addNums(num1 - 4) which is 5 - 4 and \n",
    "                                          #so on....\n",
    "\n",
    "# If we print now ....\n",
    "addNums1(5) #This is only printing the if-else loop results\n",
    "print(addNums1(5)) #result of the addition (5 + 4+ 3 + 2 + 1) = 15"
   ]
  },
  {
   "cell_type": "markdown",
   "metadata": {},
   "source": [
    "#### Writing a Factorial Function"
   ]
  },
  {
   "cell_type": "code",
   "execution_count": 115,
   "metadata": {},
   "outputs": [
    {
     "name": "stdout",
     "output_type": "stream",
     "text": [
      "Num is 1 \n",
      "Num is 1 \n",
      "120\n"
     ]
    }
   ],
   "source": [
    "# 5! = 5 * 4 * 3 * 2 * 1\n",
    "\n",
    "def factorial(num5):\n",
    "    if num5 <= 1:\n",
    "        print(f'Num is {num5} ')\n",
    "        return 1\n",
    "    else:\n",
    "        return num5 * factorial(num5 - 1)\n",
    "    \n",
    "factorial(5)\n",
    "print(factorial(5))\n",
    "    "
   ]
  },
  {
   "cell_type": "markdown",
   "metadata": {},
   "source": [
    "#### In-Class Exercise #5 <br>\n",
    "<p>Write a recursive function that subtracts all numbers to the argument given.</p>"
   ]
  },
  {
   "cell_type": "code",
   "execution_count": 136,
   "metadata": {},
   "outputs": [
    {
     "data": {
      "text/plain": [
       "3"
      ]
     },
     "execution_count": 136,
     "metadata": {},
     "output_type": "execute_result"
    }
   ],
   "source": [
    "# return num -\n",
    "# num8 = 0\n",
    "def subRecur(num7):\n",
    "    if num7 <= 1:\n",
    "        return 1\n",
    "    else:\n",
    "        \n",
    "        return num7 - subRecur(num7 - 1)\n",
    "\n",
    "subRecur(5)\n",
    "# print(subRecur(5))\n",
    "    "
   ]
  },
  {
   "cell_type": "markdown",
   "metadata": {},
   "source": [
    "## Generators <br>\n",
    "<p>Generators are a type of iterable, like lists or tuples. They do not allow indexing, but they can still be iterated through with for loops. They are created using functions and the yield statement.</p>"
   ]
  },
  {
   "cell_type": "markdown",
   "metadata": {},
   "source": [
    "#### Yield Keyword <br>\n",
    "<p>The yield keyword denotes a generator, it doesn't return so it won't leave the function and reset all variables in the function scope, instead it yields the number back to the caller.</p>"
   ]
  },
  {
   "cell_type": "code",
   "execution_count": 137,
   "metadata": {},
   "outputs": [
    {
     "name": "stdout",
     "output_type": "stream",
     "text": [
      "2\n",
      "4\n",
      "6\n",
      "8\n",
      "10\n",
      "12\n",
      "14\n",
      "16\n",
      "18\n"
     ]
    }
   ],
   "source": [
    "def my_range(stop, start, step=2):\n",
    "    while start < stop:\n",
    "        yield start #yield key word denotes a generator\n",
    "        start += step\n",
    "        \n",
    "for i in my_range(20, start=2):    #This i scalling the function my_range with the parameters denoted\n",
    "    my_generator_value = i         # stop = 20 and start = 2. step = 2 is already set in the function my_range.\n",
    "    print(my_generator_value)"
   ]
  },
  {
   "cell_type": "markdown",
   "metadata": {},
   "source": [
    "#### Infinite Generator"
   ]
  },
  {
   "cell_type": "code",
   "execution_count": null,
   "metadata": {},
   "outputs": [],
   "source": [
    "# bad, never create infinite loops\n",
    "\n",
    "# As in the exercise above, just getting rid of :\n",
    "# while start < stop:\n",
    "# will not have the stop = 20 as a stop signal compared to 'start'\n",
    "\n",
    "# #NOT GOOD"
   ]
  },
  {
   "cell_type": "markdown",
   "metadata": {},
   "source": [
    "#### In-Class Exercise #6 <br>\n",
    "<p>Create a generator that takes a number argument and yields that number squared, then prints each number squared until zero is reached.</p>"
   ]
  },
  {
   "cell_type": "code",
   "execution_count": 140,
   "metadata": {},
   "outputs": [
    {
     "name": "stdout",
     "output_type": "stream",
     "text": [
      "100\n",
      "81\n",
      "64\n",
      "49\n",
      "36\n",
      "25\n",
      "16\n",
      "9\n",
      "4\n"
     ]
    }
   ],
   "source": [
    "def class_ex(stop, start, step=1):\n",
    "    while start > stop:\n",
    "        yield start ** 2\n",
    "        start -= step\n",
    "        \n",
    "for i in class_ex(1, start = 10):\n",
    "    squared_n = i\n",
    "    print(squared_n)"
   ]
  },
  {
   "cell_type": "markdown",
   "metadata": {},
   "source": [
    "# Exercises"
   ]
  },
  {
   "cell_type": "markdown",
   "metadata": {},
   "source": [
    "### Exercise #1 <br>\n",
    "<p>Filter out all of the empty strings from the list below</p>\n",
    "\n",
    "`Output: ['Argentina', 'San Diego', 'Boston', 'New York']`"
   ]
  },
  {
   "cell_type": "code",
   "execution_count": 175,
   "metadata": {},
   "outputs": [
    {
     "name": "stdout",
     "output_type": "stream",
     "text": [
      "['Argentina', 'San Diego', 'Boston', 'New York']\n"
     ]
    }
   ],
   "source": [
    "places = [\" \",\"Argentina\", \" \", \"San Diego\",\"\",\"  \",\"\",\"Boston\",\"New York\"]\n",
    "\n",
    "new_list = list((i.strip() for i in places))\n",
    "\n",
    "\n",
    "no_spaces = list(filter(lambda x: True if x != \"\" else False, new_list))\n",
    "print(no_spaces)\n",
    "\n"
   ]
  },
  {
   "cell_type": "markdown",
   "metadata": {},
   "source": [
    "### Exercise #2 <br>\n",
    "<p>Write an anonymous function that sorts this list by the last name...<br><b>Hint: Use the \".sort()\" method and access the key\"</b></p>\n",
    "\n",
    "`Output: ['Victor aNisimov', 'Gary A.J. Bernstein', 'Joel Carter', 'Andrew P. Garfield', 'David hassELHOFF']`"
   ]
  },
  {
   "cell_type": "code",
   "execution_count": 353,
   "metadata": {
    "scrolled": true
   },
   "outputs": [
    {
     "name": "stdout",
     "output_type": "stream",
     "text": [
      "['Victor Anisimov', 'Gary A.J. Bernstein', 'Joel Carter', 'Andrew P. Garfield', 'David Hasselhoff']\n",
      "['Victor aNisimov', 'Gary A.J. Bernstein', 'Joel Carter', 'Andrew P. Garfield', 'David hassELHOFF']\n"
     ]
    }
   ],
   "source": [
    "author = [\"Joel Carter\", \"Victor aNisimov\", \"Andrew P. Garfield\",\"David hassELHOFF\",\"Gary A.J. Bernstein\"]\n",
    "author1 = [\"Joel Carter\", \"Victor aNisimov\", \"Andrew P. Garfield\",\"David hassELHOFF\",\"Gary A.J. Bernstein\"]\n",
    "# print(author)\n",
    "\n",
    "# Lowering all cases\n",
    "\n",
    "new_list5 = list(i.lower() for i in author)\n",
    "# print(new_list5)\n",
    "\n",
    "# spliting the strings\n",
    "new_list6 = list(x.split() for x in new_list5)\n",
    "# print(new_list6)\n",
    "\n",
    "# reversing the order of each sub-list\n",
    "new_list7 = list(x[::-1] for x in new_list6)\n",
    "# print(new_list7)\n",
    "\n",
    "# title() for each proper name\n",
    "new_list8 = list(list(f.title() for f in g) for g in new_list7)\n",
    "# print(new_list8)\n",
    "\n",
    "# sorting the list alphabetically based on last names\n",
    "new_list8.sort()\n",
    "\n",
    "# reversing names back to original form\n",
    "new_list9 = list(x[::-1] for x in new_list8)\n",
    "# print(new_list9)\n",
    "\n",
    "# joining each sub-string\n",
    "final_list = list((' '.join(str(x) for x in g)) for g in new_list9)\n",
    "\n",
    "print(final_list)\n",
    "\n",
    "# author.sort(key= lambda x: x.lower().split()[-1])\n",
    "\n",
    "# print(author)\n",
    "\n",
    "author.sort(key=lambda names: names.lower().split()[-1])\n",
    "\n",
    "\n",
    "\n",
    "print(author)\n"
   ]
  },
  {
   "cell_type": "code",
   "execution_count": null,
   "metadata": {},
   "outputs": [],
   "source": []
  },
  {
   "cell_type": "markdown",
   "metadata": {},
   "source": [
    "### Exercise #3 <br>\n",
    "<p>Convert the list below from Celsius to Farhenheit, using the map function with a lambda...</p>\n",
    "\n",
    "`Output: [('Nashua', 89.6), ('Boston', 53.6), ('Los Angelos', 111.2), ('Miami', 84.2)]\n",
    "`"
   ]
  },
  {
   "cell_type": "code",
   "execution_count": 375,
   "metadata": {},
   "outputs": [
    {
     "name": "stdout",
     "output_type": "stream",
     "text": [
      "[('Nashua', 89.6), ('Boston', 53.6), ('Los Angelos', 111.2), ('Miami', 84.2)]\n",
      "[['Nashua', 89.6], ['Boston', 53.6], ['Los Angelos', 111.2], ['Miami', 84.2]]\n"
     ]
    }
   ],
   "source": [
    "# F = (9/5)*C + 32\n",
    "places = [('Nashua',32),(\"Boston\",12),(\"Los Angelos\",44),(\"Miami\",29)]\n",
    "\n",
    "def cel_to_fa(places):\n",
    "    return places[0], (((9/5)*places[1]) + 32)\n",
    "  \n",
    "final_result = list(map(cel_to_fa, places)) #its important to use list() to be able to print the 'map'\n",
    "print(final_result)\n",
    "\n",
    "# OR\n",
    "\n",
    "print(list(map(lambda w: [w[0], w[1] * (9/5) + 32], places)))\n",
    "\n",
    "# final_result1 = list(map((lambda x: (((9/5)*places[1]) + 32) for x in places)))\n",
    "# print(final_result1)\n",
    "# --------------------------------------------------\n",
    "\n",
    "\n",
    "    \n"
   ]
  },
  {
   "cell_type": "markdown",
   "metadata": {},
   "source": [
    "### Exercise #4 <br>\n",
    "<p>Write a recursion function to perform the fibonacci sequence up to the number passed in.</p>\n",
    "\n",
    "`Output for fib(5) => \n",
    "Iteration 0: 1\n",
    "Iteration 1: 1\n",
    "Iteration 2: 2\n",
    "Iteration 3: 3\n",
    "Iteration 4: 5\n",
    "Iteration 5: 8`"
   ]
  },
  {
   "cell_type": "code",
   "execution_count": 373,
   "metadata": {
    "scrolled": true
   },
   "outputs": [
    {
     "name": "stdout",
     "output_type": "stream",
     "text": [
      "Please enter the number of recursions? 5\n",
      "Output for fib(5)\n",
      "Iteration 0:  1\n",
      "Iteration 1:  1\n",
      "Iteration 2:  2\n",
      "Iteration 3:  3\n",
      "Iteration 4:  5\n"
     ]
    }
   ],
   "source": [
    "def fib_seq(rec):\n",
    "   if rec <= 1:\n",
    "       return rec\n",
    "   return fib_seq(rec-1) + fib_seq(rec-2)\n",
    "\n",
    "num_rec = int(input('Please enter the number of recursions? '))\n",
    "\n",
    "print(f'Output for fib({num_rec})')\n",
    "for i in range(num_rec):\n",
    "    print(f'Iteration {i}: ', fib_seq(i+1))"
   ]
  }
 ],
 "metadata": {
  "kernelspec": {
   "display_name": "Python 3 (ipykernel)",
   "language": "python",
   "name": "python3"
  },
  "language_info": {
   "codemirror_mode": {
    "name": "ipython",
    "version": 3
   },
   "file_extension": ".py",
   "mimetype": "text/x-python",
   "name": "python",
   "nbconvert_exporter": "python",
   "pygments_lexer": "ipython3",
   "version": "3.9.12"
  }
 },
 "nbformat": 4,
 "nbformat_minor": 2
}
