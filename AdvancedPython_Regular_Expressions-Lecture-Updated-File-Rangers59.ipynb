{
 "cells": [
  {
   "cell_type": "markdown",
   "metadata": {},
   "source": [
    "# Regular Expressions"
   ]
  },
  {
   "cell_type": "markdown",
   "metadata": {},
   "source": [
    "# Tasks today:\n",
    "1) <b>Importing</b> <br>\n",
    "2) <b>Using Regular Expressions</b> <br>\n",
    " &nbsp;&nbsp;&nbsp;&nbsp; a) re.compile() <br>\n",
    " &nbsp;&nbsp;&nbsp;&nbsp; b) re.match() <br>\n",
    " &nbsp;&nbsp;&nbsp;&nbsp; c) re.findall() <br>\n",
    " &nbsp;&nbsp;&nbsp;&nbsp; d) re.search() <br>\n",
    "3) <b>Sets</b> <br>\n",
    " &nbsp;&nbsp;&nbsp;&nbsp; a) Integer Ranges <br>\n",
    " &nbsp;&nbsp;&nbsp;&nbsp; b) Character Ranges <br>\n",
    "4) <b>Counting Occurences</b> <br>\n",
    " &nbsp;&nbsp;&nbsp;&nbsp; a) {x} <br>\n",
    " &nbsp;&nbsp;&nbsp;&nbsp; b) {, x} <br>\n",
    " &nbsp;&nbsp;&nbsp;&nbsp; c) {?} <br>\n",
    " &nbsp;&nbsp;&nbsp;&nbsp; d) {*} <br>\n",
    " &nbsp;&nbsp;&nbsp;&nbsp; e) {+} <br>\n",
    "5) <b>In-Class Exercise #1</b> <br>\n",
    "6) <b>Escaping Characters</b> <br>\n",
    "7) <b>Grouping</b> <br>\n",
    "8) <b>In-Class Exercise #2</b> <br>\n",
    "9) <b>Opening a File</b> <br>\n",
    " &nbsp;&nbsp;&nbsp;&nbsp; a) open() <br>\n",
    " &nbsp;&nbsp;&nbsp;&nbsp; b) with open() <br>\n",
    " &nbsp;&nbsp;&nbsp;&nbsp; c) re.match() <br>\n",
    " &nbsp;&nbsp;&nbsp;&nbsp; d) re.search() <br>\n",
    " &nbsp;&nbsp;&nbsp;&nbsp; e) Store the String in a Variable <br>\n",
    "10) <b>Regex Project</b> <br>"
   ]
  },
  {
   "cell_type": "markdown",
   "metadata": {},
   "source": [
    "### Importing <br>\n",
    "<p>Regular Expressions are universal throughout most programming languages... They are generally imported through the module 're'.</p>"
   ]
  },
  {
   "cell_type": "code",
   "execution_count": 83,
   "metadata": {},
   "outputs": [],
   "source": [
    "# import re\n",
    "import re"
   ]
  },
  {
   "cell_type": "markdown",
   "metadata": {},
   "source": [
    "### Using Regular Expressions <br>\n",
    "<p>Regular expressions give us the ability to search for patterns within text, strings, files, etc. They serve several uses, such as; security measures, searching, filtering, pattern recognition, and more...</p>"
   ]
  },
  {
   "cell_type": "markdown",
   "metadata": {},
   "source": [
    "##### re.compile()"
   ]
  },
  {
   "cell_type": "code",
   "execution_count": 82,
   "metadata": {},
   "outputs": [],
   "source": [
    "# using compile, pre determines the string to be used in regular expression methods\n",
    "\n",
    "pattern =re.compile('abcd')\n"
   ]
  },
  {
   "cell_type": "markdown",
   "metadata": {},
   "source": [
    "##### re.match()"
   ]
  },
  {
   "cell_type": "code",
   "execution_count": 81,
   "metadata": {},
   "outputs": [
    {
     "name": "stdout",
     "output_type": "stream",
     "text": [
      "<re.Match object; span=(0, 4), match='abcd'>\n",
      "(0, 4)\n",
      "<class 'tuple'>\n"
     ]
    }
   ],
   "source": [
    "match = pattern.match('abcd123')\n",
    "print(match)\n",
    "\n",
    "# Accessing the span of the match\n",
    "print(match.span()) #span() will print the location of the 'match' or 'span' , from character 0 to 4 (non-inclusive)\n",
    "                    #like range(). Index 0 is 'a', 1 is 'b', 2 is 'c', 3 is 'd'\n",
    "# We can also print the 'span' of the match's class type as it is below :\n",
    "print(type(match.span()))"
   ]
  },
  {
   "cell_type": "markdown",
   "metadata": {},
   "source": [
    "##### re.findall()"
   ]
  },
  {
   "cell_type": "code",
   "execution_count": 80,
   "metadata": {},
   "outputs": [
    {
     "name": "stdout",
     "output_type": "stream",
     "text": [
      "['abcd', 'abcd', 'abcd']\n",
      "Help on function findall in module re:\n",
      "\n",
      "findall(pattern, string, flags=0)\n",
      "    Return a list of all non-overlapping matches in the string.\n",
      "    \n",
      "    If one or more capturing groups are present in the pattern, return\n",
      "    a list of groups; this will be a list of tuples if the pattern\n",
      "    has more than one group.\n",
      "    \n",
      "    Empty matches are included in the result.\n",
      "\n"
     ]
    }
   ],
   "source": [
    "finders = pattern.findall('123abcd abcd123 abcd abcabc acb')  #'pattern' still is coming from the variable above\n",
    "                                            #We are comparing 'pattern', which is ('abcd') against the new string\n",
    "                                            #here, '123abcd abcd123 abcd abcabc acb'.\n",
    "        #This function prints the pattern as many times as it is found in the string we are searching for it, as \n",
    "        #it is below :\n",
    "print(finders)\n",
    "\n",
    "        #It was found three times as it is the result printed. Doesnt say how many matches are there or the \n",
    "        #location\n",
    "help(re.findall)"
   ]
  },
  {
   "cell_type": "markdown",
   "metadata": {},
   "source": [
    "##### re.search()"
   ]
  },
  {
   "cell_type": "code",
   "execution_count": 131,
   "metadata": {},
   "outputs": [
    {
     "name": "stdout",
     "output_type": "stream",
     "text": [
      "<re.Match object; span=(12, 16), match='abcd'>\n",
      "(12, 16)\n",
      "abcd\n"
     ]
    }
   ],
   "source": [
    "pattern =re.compile('abcd')\n",
    "random_string = '123 123 234 abcd abc'\n",
    "\n",
    "search = pattern.search(random_string)\n",
    "print(search)\n",
    "span = search.span()\n",
    "print(span)\n",
    "print(random_string[span[0] : span[1]]) # or print(random_string[12:16])"
   ]
  },
  {
   "cell_type": "markdown",
   "metadata": {},
   "source": [
    "### Sets <br>\n",
    "<p>The following cells will allow you to use regular expressions to search for certain values within a range such as numbers 1 through 4.</p>"
   ]
  },
  {
   "cell_type": "markdown",
   "metadata": {},
   "source": [
    "##### [a-z] or [A-Z] - any lowercase/uppercase letters from a to z<br/>[^2] - anything that's not 2"
   ]
  },
  {
   "cell_type": "markdown",
   "metadata": {},
   "source": [
    "##### Integer Ranges"
   ]
  },
  {
   "cell_type": "code",
   "execution_count": 132,
   "metadata": {},
   "outputs": [
    {
     "name": "stdout",
     "output_type": "stream",
     "text": [
      "Example 1\n",
      "<re.Match object; span=(0, 1), match='6'>\n",
      "6\n",
      "\n",
      "Example 2\n",
      "<re.Match object; span=(0, 3), match='673'>\n",
      "673\n",
      "\n",
      "Example 3\n",
      "<re.Match object; span=(1, 4), match='738'>\n",
      "(1, 4)\n"
     ]
    },
    {
     "ename": "IndexError",
     "evalue": "no such group",
     "output_type": "error",
     "traceback": [
      "\u001b[0;31m---------------------------------------------------------------------------\u001b[0m",
      "\u001b[0;31mIndexError\u001b[0m                                Traceback (most recent call last)",
      "Input \u001b[0;32mIn [132]\u001b[0m, in \u001b[0;36m<cell line: 32>\u001b[0;34m()\u001b[0m\n\u001b[1;32m     30\u001b[0m span \u001b[38;5;241m=\u001b[39m random_numbers3\u001b[38;5;241m.\u001b[39mspan()\n\u001b[1;32m     31\u001b[0m \u001b[38;5;28mprint\u001b[39m(random_numbers3\u001b[38;5;241m.\u001b[39mspan())\n\u001b[0;32m---> 32\u001b[0m \u001b[38;5;28mprint\u001b[39m(\u001b[43mrandom_numbers3\u001b[49m\u001b[43m[\u001b[49m\u001b[43mspan\u001b[49m\u001b[43m[\u001b[49m\u001b[38;5;241;43m0\u001b[39;49m\u001b[43m]\u001b[49m\u001b[43m \u001b[49m\u001b[43m:\u001b[49m\u001b[43m \u001b[49m\u001b[43mspan\u001b[49m\u001b[43m[\u001b[49m\u001b[38;5;241;43m1\u001b[39;49m\u001b[43m]\u001b[49m\u001b[43m]\u001b[49m)\n",
      "\u001b[0;31mIndexError\u001b[0m: no such group"
     ]
    }
   ],
   "source": [
    "print('Example 1')\n",
    "\n",
    "pattern_int = re.compile('[0-7]') #This means that the first ccharacter we are looking for should be between\n",
    "                                  #0 and 7\n",
    "\n",
    "random_numbers = pattern_int.search('67383')\n",
    "print(random_numbers)\n",
    "span = random_numbers.span()\n",
    "print(random_numbers[span[0]])\n",
    "\n",
    "\n",
    "# But if we are looking for more numbers inside our string of numbers '67383' then :\n",
    "print('\\nExample 2')\n",
    "pattern_int2 = re.compile('[0-7][7-9][0-3]')\n",
    "\n",
    "random_numbers2 = pattern_int2.search(r'67383')\n",
    "print(random_numbers2)\n",
    "span = random_numbers2.span()\n",
    "print(random_numbers2[span[0]])\n",
    "\n",
    "# We can also be very specific with our serach and what we are searching for . We can be especific and obvious\n",
    "# below to prove a point :\n",
    "print('\\nExample 3')\n",
    "\n",
    "pattern_int3 = re.compile('[0-7][3][8]') #We are going to look for those 3 especific numbers inside our string\n",
    "                                      # ('67383')\n",
    "\n",
    "random_numbers3 = pattern_int3.search(r'67383')\n",
    "print(random_numbers3)\n",
    "span = random_numbers3.span()\n",
    "print(random_numbers3.span())\n",
    "print(random_numbers3[span[0] : span[1]])  #Brandon could not make it work\n"
   ]
  },
  {
   "cell_type": "markdown",
   "metadata": {},
   "source": [
    "##### Character Ranges"
   ]
  },
  {
   "cell_type": "code",
   "execution_count": 77,
   "metadata": {},
   "outputs": [
    {
     "name": "stdout",
     "output_type": "stream",
     "text": [
      "['He', 'Mr', 'An']\n"
     ]
    }
   ],
   "source": [
    "char_pattern = re.compile('[A-Z][a-z]') #What this means is that it will look for the first TWO charcters \n",
    "                                        #that meet the chriteria of :\n",
    "                                        #First Character must be upper Case, from A to Z\n",
    "                                        #Second Character must be lower Case, form a to z\n",
    "                                        #in he string belo ('Hello there Mr. Anderson')\n",
    "found = char_pattern.findall('Hello there Mr. Anderson')\n",
    "print(found)"
   ]
  },
  {
   "cell_type": "markdown",
   "metadata": {},
   "source": [
    "### Counting Occurences"
   ]
  },
  {
   "cell_type": "markdown",
   "metadata": {},
   "source": [
    "##### {x} - something that occurs {num_of_times}"
   ]
  },
  {
   "cell_type": "code",
   "execution_count": 76,
   "metadata": {},
   "outputs": [
    {
     "name": "stdout",
     "output_type": "stream",
     "text": [
      "['An03']\n",
      "['An035']\n",
      "[]\n"
     ]
    }
   ],
   "source": [
    "char_pattern_count = re.compile('[A-Z][a-z][0-3]{2}') #'[0-3]{2}' means that the paramter or characters we are \n",
    "                                                      # looking for, which are TWO CONSECUTIVE numbers from 0 to 3\n",
    "                                                      # hence {2} in this example. Try changing the {} and switching\n",
    "                                                      # some characters inside the ('Nello Mr. An0derson') string\n",
    "                                                      #example below:\n",
    "\n",
    "found_count = char_pattern_count.findall('Hello Mr. An03derson')\n",
    "print(found_count)\n",
    "\n",
    "char_pattern_count2 = re.compile('[A-Z][a-z][0-6]{3}')\n",
    "found_count2 = char_pattern_count2.findall('Hello Mr. An035derson')\n",
    "print(found_count2)\n",
    "\n",
    "# This will return nothing if the exact criteria isnt met\n",
    "\n",
    "char_pattern_count3 = re.compile('[A-Z][a-z][0-6]{3}')\n",
    "found_count3 = char_pattern_count3.findall('Hello Mr. An0derson')\n",
    "print(found_count3)"
   ]
  },
  {
   "cell_type": "markdown",
   "metadata": {},
   "source": [
    "##### {x, y} - something that occurs between x and y times"
   ]
  },
  {
   "cell_type": "code",
   "execution_count": 46,
   "metadata": {},
   "outputs": [
    {
     "name": "stdout",
     "output_type": "stream",
     "text": [
      "['mm', 'm', 'm', 'mmm', 'mmmmm']\n"
     ]
    }
   ],
   "source": [
    "random_pattern = re.compile('m{1,5}')  #It means that will look for the letter 'm'\n",
    "\n",
    "random_statement = random_pattern.findall('This is an exammple of a regular expression (regex) trying to find one \"m\", more than one \"mmm\" or 2 or up to 5 mmmmm\"s')\n",
    "\n",
    "print(random_statement)"
   ]
  },
  {
   "cell_type": "markdown",
   "metadata": {},
   "source": [
    "##### ? - something that occurs 0 or 1 time"
   ]
  },
  {
   "cell_type": "code",
   "execution_count": 367,
   "metadata": {},
   "outputs": [
    {
     "name": "stdout",
     "output_type": "stream",
     "text": [
      "['Mrs', 'Mrs', 'Mrss', 'Mrss']\n"
     ]
    }
   ],
   "source": [
    "pattern5 = re.compile('Mrss?')  #The question mark '?' indicates or affect the conditional character before it just\n",
    "                                #as {#} above. But in this case, the second 's' may be optional, hence why it finds\n",
    "                                # 'Mrs' and 'Mrss'\n",
    "\n",
    "found_patt = pattern5.findall('Hello there Mr. Anderson, Mid Mrs how is Mrs-. Anderson, and Mrss. Anderson Mrss')\n",
    "print(found_patt)"
   ]
  },
  {
   "cell_type": "markdown",
   "metadata": {},
   "source": [
    "##### * - something that occurs at least 0 times"
   ]
  },
  {
   "cell_type": "code",
   "execution_count": 73,
   "metadata": {},
   "outputs": [
    {
     "name": "stdout",
     "output_type": "stream",
     "text": [
      "Example 1\n",
      "['MMMs', 's', 'Ms', 's', 's', 'MMs', 's', 's', 's', 's']\n",
      "\n",
      "\n",
      "Example 2\n",
      "\n",
      "['MMMs', '', '', '', '', '', '', '', 's', '', 'Ms', '', '', '', '', '', '', '', '', '', '', '', '', 's', '', '', 's', '', 'MMs', 's', 's', 's', 's', '']\n",
      "\n",
      "\n",
      "Example 3\n",
      "\n",
      "['MMsss', 'sss', 'sss']\n"
     ]
    }
   ],
   "source": [
    "print('Example 1')\n",
    "pattern_m = re.compile('M*s') #This is looking for 'Ms', but 'M'in particular can happen 0 times and the 's' \n",
    "                              #can be found, for instance 'Ms' will be found as well as a stand alone 's' as it\n",
    "                              #is in the example below\n",
    "found_m = pattern_m.findall(\"MMMs name is Ms. Smith. This is MMsssss\")\n",
    "print(found_m)\n",
    "\n",
    "print('\\n\\nExample 2\\n')\n",
    "# You can add more conditions in which in the example below we will make the 's' optional with the '?' mark. \n",
    "# This means that what will print even occurrances of empty ' ' spaces, beacuse 's' is optional due to '?' and\n",
    "# 'M' can happen even 0 times in the pair 'Ms',and thats why 's' was found as a standalone above. See result of \n",
    "# the example below\n",
    "\n",
    "pattern_m2 = re.compile('M*s?') #Two conditions '*' for letter 'M' and '?' for letter 's'\n",
    "\n",
    "found_m2 = pattern_m2.findall('MMMs name is Ms. Smith. This is MMsssss')\n",
    "print(found_m2)\n",
    "\n",
    "# Or\n",
    "\n",
    "print('\\n\\nExample 3\\n')\n",
    "pattern_m3 = re.compile('M*s{3}')\n",
    "\n",
    "found_m3 = pattern_m3.findall('MMMs name is Ms. Smith. This is MMssssssssss') #There are 7 's' after 'MMsss' and\n",
    "print(found_m3)                                                              #it only counts the groups of {3} \n",
    "                                                                        #leaving one out of the count beacuse it \n",
    "                                                                        #isnt part of the criteria of groups of 3"
   ]
  },
  {
   "cell_type": "markdown",
   "metadata": {},
   "source": [
    "##### + - something that occurs at least once"
   ]
  },
  {
   "cell_type": "code",
   "execution_count": 72,
   "metadata": {},
   "outputs": [
    {
     "name": "stdout",
     "output_type": "stream",
     "text": [
      "['MMMs', 'Ms', 'MMs']\n"
     ]
    }
   ],
   "source": [
    "pattern_again = re.compile('M+s') #Means that the letter 'M has to ocur at least once or more. We are going to\n",
    "                                  #use the same string above and compare results. \n",
    "    \n",
    "found_m4 = pattern_again.findall('MMMs name is Ms. Smith. This is MMssssssssss')\n",
    "print(found_m4)  #None of the stand alone 's' will pop up in the result"
   ]
  },
  {
   "cell_type": "markdown",
   "metadata": {},
   "source": [
    "##### In-class exercise 1: \n",
    "\n",
    "Use a regular expression to find every number in the given string"
   ]
  },
  {
   "cell_type": "code",
   "execution_count": 71,
   "metadata": {},
   "outputs": [
    {
     "name": "stdout",
     "output_type": "stream",
     "text": [
      "['10909090', '1', '2']\n"
     ]
    }
   ],
   "source": [
    "my_string = \"This string has 10909090 numbersm but it is only 1 string. I hope you solve this 2day.\"\n",
    "\n",
    "#output : ['10909090','1',2]\n",
    "\n",
    "pattern7 = re.compile('[0-9]+')\n",
    "\n",
    "output = pattern7.findall(my_string)\n",
    "\n",
    "print(output)\n",
    "\n",
    "\n"
   ]
  },
  {
   "cell_type": "markdown",
   "metadata": {},
   "source": [
    "### Escaping Characters"
   ]
  },
  {
   "cell_type": "markdown",
   "metadata": {},
   "source": [
    "##### \\w - look for any Unicode character<br/>\\W - look for anything that isnt a Unicode character\n",
    "\n",
    "[History on Unicode](http://unicode.org/standard/WhatIsUnicode.html)\n",
    "\n",
    "[More on Unicode Characters](https://en.wikipedia.org/wiki/List_of_Unicode_characters)"
   ]
  },
  {
   "cell_type": "code",
   "execution_count": 70,
   "metadata": {},
   "outputs": [
    {
     "name": "stdout",
     "output_type": "stream",
     "text": [
      "['This', 'is', 'a', 'sentence', 'With', 'exclamation', 'mark', 'at', 'the', 'end']\n",
      "[' ', ' ', ' ', '. ', '.., ', ' ', ' ', ' ', ' ', '!']\n"
     ]
    }
   ],
   "source": [
    "pattern_1 = re.compile('[\\w]+') #Looks for unicode or 'letters' in our string\n",
    "pattern_2 = re.compile('[\\W]+') #Looks for any character that it is not a letter\n",
    "\n",
    "found_1 = pattern_1.findall('This is a sentence. With., exclamation mark at the end!')\n",
    "found_2 = pattern_2.findall('This is a sentence. With.., exclamation mark at the end!')\n",
    "print(found_1)\n",
    "print(found_2)"
   ]
  },
  {
   "cell_type": "markdown",
   "metadata": {},
   "source": [
    "##### \\d - look for any digit 0-9<br/>\\D - look for anything that isnt a digit"
   ]
  },
  {
   "cell_type": "code",
   "execution_count": 95,
   "metadata": {},
   "outputs": [
    {
     "name": "stdout",
     "output_type": "stream",
     "text": [
      "['7th', '30tr', '27th', '3rd', '1st', '30th']\n"
     ]
    }
   ],
   "source": [
    "pattern_nums9 = re.compile('\\d{1,2}[a-z]{2}')\n",
    "\n",
    "found_dates2 = pattern_nums9.findall('Today is the 7th, in 20y days it 30treat will be the 27th. 3rd, 1st,30th')\n",
    "print(found_dates2)\n",
    "# The number '20' or even '20y' for example does not show up on the output because it is not immediately followed by\n",
    "# two letters as it is instructed in 'pattern_nums9' which states '\\d' (any digit from 0-9), '{1,2}' (that happens \n",
    "# 1 to two times consecutevely),followed by '[a-z]' (any letter form a to z), that happens at least TWICE '{2}' \n",
    "# next to each other.\n"
   ]
  },
  {
   "cell_type": "markdown",
   "metadata": {},
   "source": [
    "##### \\s - look for any white space<br/>\\S - look for anything that isnt whitespace"
   ]
  },
  {
   "cell_type": "code",
   "execution_count": 98,
   "metadata": {},
   "outputs": [
    {
     "name": "stdout",
     "output_type": "stream",
     "text": [
      "Ecample 1\n",
      "['Are', 'you', 'afraid', 'of', 'the', 'dark']\n",
      "\n",
      "Example 2\n",
      "['Are ', 'you ', 'afraid ', 'of ', 'the ', 'dark?']\n",
      "\n",
      "Example 3\n",
      "[' ', '   ', ' ', ' ', ' ']\n"
     ]
    }
   ],
   "source": [
    "pattern_no_space = re.compile('\\S[a-z]+')\n",
    "pattern_space = re.compile('\\s+')\n",
    "\n",
    "print('Ecample 1')\n",
    "found_dark = pattern_no_space.findall('Are you afraid of the dark?')\n",
    "print(found_dark)\n",
    "\n",
    "# We can also add more paramters to look for for non-unicode characters like the '?' using '\\W' as so:\n",
    "\n",
    "print('\\nExample 2')\n",
    "pattern_no_space = re.compile('\\S[a-z]+[\\W]*') #'*'' something that occures at least '0' times which is \n",
    "                                               # 'symbols' (\\W). ---> 'dark?'\n",
    "\n",
    "found_dark = pattern_no_space.findall('Are you afraid of the dark?')\n",
    "print(found_dark)\n",
    "\n",
    "print('\\nExample 3')\n",
    "found_space = pattern_space.findall('Are you   afraid of the dark?') #the exagerated space between\n",
    "print(found_space)                                              #'you' and 'afraid' comes up in the output \n"
   ]
  },
  {
   "cell_type": "markdown",
   "metadata": {},
   "source": [
    "##### \\b - look for boundaries or edges of a word<br/>\\B - look for anything that isnt a boundary"
   ]
  },
  {
   "cell_type": "code",
   "execution_count": 211,
   "metadata": {},
   "outputs": [
    {
     "name": "stdout",
     "output_type": "stream",
     "text": [
      "['TheCodingTemple']\n",
      "[]\n"
     ]
    }
   ],
   "source": [
    "pattern_bound = re.compile(r'\\bTheCodingTemple\\b')\n",
    "pattern_bound_none = re.compile(r'\\BTheCodingTemple\\B')\n",
    "\n",
    "found_bound = pattern_bound.findall('i dont know TheCodingTemple')\n",
    "print(found_bound)\n",
    "\n",
    "no_found_bound = pattern_bound_none.findall('i dont know TheCodingTemple')\n",
    "print(no_found_bound)"
   ]
  },
  {
   "cell_type": "markdown",
   "metadata": {},
   "source": [
    "### Grouping"
   ]
  },
  {
   "cell_type": "code",
   "execution_count": 139,
   "metadata": {},
   "outputs": [
    {
     "name": "stdout",
     "output_type": "stream",
     "text": [
      "[('Max', 'Smith'), ('SARamS', 'Darnold'), ('LeBron', 'James'), ('Michael', 'Jordan'), ('Kevin', 'Durant'), ('Patrick', 'McCormick')]\n",
      "\n",
      "\n",
      "('Max', 'Smith')\n",
      "Not a name\n",
      "('SARamS', 'Darnold')\n",
      "('LeBron', 'James')\n",
      "('Michael', 'Jordan')\n",
      "('Kevin', 'Durant')\n",
      "('Patrick', 'McCormick')\n"
     ]
    }
   ],
   "source": [
    "another_string = \"Max Smith, aaron rodgers, SARamS Darnold,LeBron James, Michael Jordan, Kevin Durant, Patrick McCormick\"\n",
    "\n",
    "# Group of names Regex Compiler\n",
    "pattern_name = re.compile('([A-Z][a-zA-Za-z]+) ([A-Z][A-Za-z]+)') #Each bracket is a group of letters with that \n",
    "                                                                #specific criteria. The '+' means 'as many times'. \n",
    "                                                #Both first and last names MUST start with upper case to qualify\n",
    "                                                #for our parameter. If we capitalize 'Rodgers' and not 'aaron' it\n",
    "                                                #wont come up either\n",
    "found_names = pattern_name.findall(another_string)\n",
    "print(found_names)\n",
    "\n",
    "# We can see that 'aaron rodgers' is absent. It printed all results as tuples.\n",
    "print('\\n')\n",
    "# To print them as a list of tuples\n",
    "for name in another_string.split(','):\n",
    "    match = pattern_name.search(name)\n",
    "    \n",
    "    if match:\n",
    "        print(match.groups(2))\n",
    "    else:\n",
    "        print('Not a name')"
   ]
  },
  {
   "cell_type": "markdown",
   "metadata": {},
   "source": [
    "##### In-class Exercise 2:\n",
    "\n",
    "Write a function using regular expressions to find the domain name in the given email addresses (and return None for the invalid email addresses)<br><b>HINT: Use '|' for either or</b>"
   ]
  },
  {
   "cell_type": "code",
   "execution_count": 231,
   "metadata": {},
   "outputs": [
    {
     "name": "stdout",
     "output_type": "stream",
     "text": [
      "None\n",
      "pocohontas1776@gmail.com\n",
      "None\n",
      "yourfavoriteband@g6.org\n",
      "None\n"
     ]
    }
   ],
   "source": [
    "my_emails = [\"jordanw@codingtemple.orgcom\", \"pocohontas1776@gmail.com\", \"helloworld@aol..com\",\n",
    "             \"yourfavoriteband@g6.org\", \"@codingtemple.com\"]\n",
    "\n",
    "# You can also use the $ at the end of your compile expression -- this stops the search\n",
    "\n",
    "#.com OR .org => com|org\n",
    "\n",
    "\n",
    "\n",
    "def PrintEmail(email):\n",
    "    check = re.compile(r'([a-z0-9]+)(\\W)([a-z0-9]+).(com|org)$') #'$' in combination with '|' gets one or the other\n",
    "    if check.match(email):                        #Also note the '.'. No need or additional parameters to filter out\n",
    "        return email                              #the double '.'s\n",
    "    \n",
    "\n",
    "for i in my_emails:\n",
    "    print(PrintEmail(i))\n",
    "\n",
    "\n",
    "\n",
    "#Expected output:\n",
    "#None\n",
    "#pocohontas1776@gmail.com\n",
    "#None\n",
    "#yourfavoriteband@g6.org\n",
    "#None\n",
    "\n",
    "\n"
   ]
  },
  {
   "cell_type": "markdown",
   "metadata": {},
   "source": [
    "### Opening a File <br>\n",
    "<p>Python gives us a couple ways to import files, below are the two used most often.</p>"
   ]
  },
  {
   "cell_type": "markdown",
   "metadata": {},
   "source": [
    "##### open()"
   ]
  },
  {
   "cell_type": "code",
   "execution_count": 236,
   "metadata": {},
   "outputs": [
    {
     "name": "stdout",
     "output_type": "stream",
     "text": [
      "Hawkins, Derek\tderek@codingtemple.com\t(555) 555-5555\tTeacher, Coding Temple\t@derekhawkins\n",
      "Zhai, Mo\tmozhai@codingtemple.com\t(555) 555-5554\tTeacher, Coding Temple\n",
      "Johnson, Joe\tjoejohnson@codingtemple.com\t\tJohson, Joe\n",
      "Osterberg, Sven-Erik\tgovernor@norrbotten.co.se\t\tGovernor, Norrbotten\t@sverik\n",
      ", Tim\ttim@killerrabbit.com\t\tEnchanter, Killer Rabbit Cave\n",
      "Butz, Ryan\tryanb@codingtemple.com\t(555) 555-5543\tCEO, Coding Temple\t@ryanbutz\n",
      "Doctor, The\tdoctor+companion@tardis.co.uk\t\tTime Lord, Gallifrey\n",
      "Exampleson, Example\tme@example.com\t555-555-5552\tExample, Example Co.\t@example\n",
      "Pael, Ripal\tripalp@codingtemple.com\t(555) 555-5553\tTeacher, Coding Temple\t@ripalp\n",
      "Vader, Darth\tdarth-vader@empire.gov\t(555) 555-4444\tSith Lord, Galactic Empire\t@darthvader\n",
      "Fernandez de la Vega Sanz, Maria Teresa\tmtfvs@spain.gov\t\tFirst Deputy Prime Minister, Spanish Gov\n"
     ]
    }
   ],
   "source": [
    "f = open('names.txt')\n",
    "\n",
    "data = f.read()\n",
    "\n",
    "print(data)"
   ]
  },
  {
   "cell_type": "markdown",
   "metadata": {},
   "source": [
    "##### with open()"
   ]
  },
  {
   "cell_type": "code",
   "execution_count": 237,
   "metadata": {},
   "outputs": [
    {
     "name": "stdout",
     "output_type": "stream",
     "text": [
      "Hawkins, Derek\tderek@codingtemple.com\t(555) 555-5555\tTeacher, Coding Temple\t@derekhawkins\n",
      "Zhai, Mo\tmozhai@codingtemple.com\t(555) 555-5554\tTeacher, Coding Temple\n",
      "Johnson, Joe\tjoejohnson@codingtemple.com\t\tJohson, Joe\n",
      "Osterberg, Sven-Erik\tgovernor@norrbotten.co.se\t\tGovernor, Norrbotten\t@sverik\n",
      ", Tim\ttim@killerrabbit.com\t\tEnchanter, Killer Rabbit Cave\n",
      "Butz, Ryan\tryanb@codingtemple.com\t(555) 555-5543\tCEO, Coding Temple\t@ryanbutz\n",
      "Doctor, The\tdoctor+companion@tardis.co.uk\t\tTime Lord, Gallifrey\n",
      "Exampleson, Example\tme@example.com\t555-555-5552\tExample, Example Co.\t@example\n",
      "Pael, Ripal\tripalp@codingtemple.com\t(555) 555-5553\tTeacher, Coding Temple\t@ripalp\n",
      "Vader, Darth\tdarth-vader@empire.gov\t(555) 555-4444\tSith Lord, Galactic Empire\t@darthvader\n",
      "Fernandez de la Vega Sanz, Maria Teresa\tmtfvs@spain.gov\t\tFirst Deputy Prime Minister, Spanish Gov\n"
     ]
    }
   ],
   "source": [
    "with open('names.txt') as f:\n",
    "    data = f.read()\n",
    "    print(data)"
   ]
  },
  {
   "cell_type": "markdown",
   "metadata": {},
   "source": [
    "##### re.match()"
   ]
  },
  {
   "cell_type": "code",
   "execution_count": 238,
   "metadata": {},
   "outputs": [
    {
     "name": "stdout",
     "output_type": "stream",
     "text": [
      "<re.Match object; span=(0, 14), match='Hawkins, Derek'>\n"
     ]
    }
   ],
   "source": [
    "print(re.match(r'Hawkins, Derek', data))"
   ]
  },
  {
   "cell_type": "markdown",
   "metadata": {},
   "source": [
    "##### re.search()"
   ]
  },
  {
   "cell_type": "code",
   "execution_count": 239,
   "metadata": {},
   "outputs": [
    {
     "name": "stdout",
     "output_type": "stream",
     "text": [
      "<re.Match object; span=(582, 605), match='ripalp@codingtemple.com'>\n"
     ]
    }
   ],
   "source": [
    "print(re.search(r'ripalp@codingtemple.com', data))"
   ]
  },
  {
   "cell_type": "markdown",
   "metadata": {},
   "source": [
    "##### Store the String to a Variable"
   ]
  },
  {
   "cell_type": "code",
   "execution_count": 243,
   "metadata": {},
   "outputs": [
    {
     "name": "stdout",
     "output_type": "stream",
     "text": [
      "What wpould you like to search for ? Apple Souce\n",
      "Nothing here!\n"
     ]
    }
   ],
   "source": [
    "answer = input('What wpould you like to search for ? ')\n",
    "\n",
    "found = re.findall(answer, data)\n",
    "if found:\n",
    "    print(f'I found your data {found}')\n",
    "else:\n",
    "    print('Nothing here!')"
   ]
  },
  {
   "cell_type": "markdown",
   "metadata": {},
   "source": [
    "### In-Class Exercise #3 <br>\n",
    "<p>Print each persons name and twitter handle, using groups, should look like:</p>\n",
    "<p>==============<br>\n",
    "   Full Name / Twitter<br>\n",
    "   ==============</p>\n",
    "Derek Hawkins / @derekhawkins\n",
    "\n",
    " Erik Sven-Osterberg / @sverik\n",
    "\n",
    " Ryan Butz / @ryanbutz\n",
    "\n",
    " Example Exampleson / @example\n",
    "\n",
    " Ripal Pael / @ripalp\n",
    "\n",
    " Darth Vader / @darthvader"
   ]
  },
  {
   "cell_type": "code",
   "execution_count": 401,
   "metadata": {
    "scrolled": true
   },
   "outputs": [
    {
     "name": "stdout",
     "output_type": "stream",
     "text": [
      "Derek Hawkins / @derekhawkins\n",
      "Sven-Erik Osterberg / @sverik\n",
      "Ryan Butz / @ryanbutz\n",
      "Example Exampleson / @example\n",
      "Ripal Pael / @ripalp\n",
      "Darth Vader / @darthvader\n"
     ]
    }
   ],
   "source": [
    "import re\n",
    "with open('names.txt', 'r') as g:\n",
    "    data = g.readlines()\n",
    "\n",
    "\n",
    "# use a for-loop to loop through data\n",
    "    final_regex = re.compile(r'([A-Za-z]+), ([A-Za-z-?]+).*\\s(@[A-Za-z]+)$')  #Each parenthesis is a .group()\n",
    "    for line in data: \n",
    "        match = final_regex.search(line)\n",
    "        if match:\n",
    "            print(f'{match.group(2)} {match.group(1)} / {match.group(3)}')\n"
   ]
  },
  {
   "cell_type": "code",
   "execution_count": null,
   "metadata": {},
   "outputs": [],
   "source": []
  },
  {
   "cell_type": "code",
   "execution_count": null,
   "metadata": {},
   "outputs": [],
   "source": []
  },
  {
   "cell_type": "markdown",
   "metadata": {},
   "source": [
    "### Regex project\n",
    "\n",
    "Use python to read the file regex_test.txt and print the last name on each line using regular expressions and groups (return None for names with no first and last name, or names that aren't properly capitalized)\n",
    "##### Hint: use with open() and readlines()"
   ]
  },
  {
   "cell_type": "code",
   "execution_count": 471,
   "metadata": {},
   "outputs": [
    {
     "name": "stdout",
     "output_type": "stream",
     "text": [
      "Abraham Lincoln\n",
      "\n",
      "Andrew P Garfield\n",
      "\n",
      "Connor Milliken\n",
      "\n",
      "Jordan Alexander Williams\n",
      "\n",
      "None\n",
      "None\n"
     ]
    },
    {
     "data": {
      "text/plain": [
       "'\\nExpected Output\\nAbraham Lincoln\\nAndrew P Garfield\\nConnor Milliken\\nJordan Alexander Williams\\nNone\\nNone\\n'"
      ]
     },
     "execution_count": 471,
     "metadata": {},
     "output_type": "execute_result"
    }
   ],
   "source": [
    "import re\n",
    "with open('regex_test.txt') as g:\n",
    "    data2 = g.readlines()\n",
    "    comp_names = re.compile(r'([A-Z]\\w+) ([A-Z]*[a-z]*)? (?:([A-Z]\\w+))*')\n",
    "    non_comp = re.compile(r'([A-Z]\\w+) ([A-Z][a-z]+)')\n",
    "    for line in data2: \n",
    "        match1 = comp_names.search(line)\n",
    "        match2 = non_comp.search(line)\n",
    "        if match1 or match2:\n",
    "            print(line)\n",
    "        else:\n",
    "            print('None')\n",
    "\"\"\"\n",
    "Expected Output\n",
    "Abraham Lincoln\n",
    "Andrew P Garfield\n",
    "Connor Milliken\n",
    "Jordan Alexander Williams\n",
    "None\n",
    "None\n",
    "\"\"\""
   ]
  },
  {
   "cell_type": "code",
   "execution_count": null,
   "metadata": {},
   "outputs": [],
   "source": []
  }
 ],
 "metadata": {
  "kernelspec": {
   "display_name": "Python 3 (ipykernel)",
   "language": "python",
   "name": "python3"
  },
  "language_info": {
   "codemirror_mode": {
    "name": "ipython",
    "version": 3
   },
   "file_extension": ".py",
   "mimetype": "text/x-python",
   "name": "python",
   "nbconvert_exporter": "python",
   "pygments_lexer": "ipython3",
   "version": "3.9.12"
  }
 },
 "nbformat": 4,
 "nbformat_minor": 2
}
